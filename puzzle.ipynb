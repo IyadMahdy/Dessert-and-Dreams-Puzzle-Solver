{
 "cells": [
  {
   "cell_type": "markdown",
   "metadata": {},
   "source": [
    "# Dessert and Dreams Puzzle Solver\n",
    "\n"
   ]
  },
  {
   "cell_type": "markdown",
   "metadata": {},
   "source": [
    "## Introduction\n",
    "\n",
    "The Potter family includes:\n",
    "- **Mummy Potter**\n",
    "- **Daddy Potter**\n",
    "- **Peter (a schoolboy)**\n",
    "- **Betty (younger sister)**\n",
    "- **Aunt Polly**\n",
    "\n",
    "Each family member has specific hobbies, favorite desserts, and dreams. This notebook answers the following:\n",
    "1. **Who likes Napoleon Cake?**\n",
    "2. **Who dreams of visiting Paris?**"
   ]
  },
  {
   "cell_type": "markdown",
   "metadata": {},
   "source": [
    "## Puzzle Constraints\n",
    "\n",
    "### Rules and Logical Statements\n",
    "\n",
    "1. **Mummy eats only marshmallows.**\n",
    "2. **Betty likes only marmalade.**\n",
    "3. **Peter doesn't like anything with cream.**  \n",
    "4. **Whoever likes ice cream dreams of visiting Paris.**  \n",
    "5. **Peter and Betty have specific dreams:**\n",
    "6. **Mummy and Daddy share the same dream.**  \n",
    "7. **Family members like Mummy’s desserts: Napoleon Cake, Marmalade, and Waffles.**"
   ]
  },
  {
   "cell_type": "code",
   "execution_count": 1,
   "metadata": {},
   "outputs": [],
   "source": [
    "# imports utils & logic From aima\n",
    "from aima.utils import *\n",
    "from aima.logic import *\n",
    "\n",
    "def conjoin(clauses):\n",
    "    \n",
    "    return expr('&'.join(map(str, clauses)))"
   ]
  },
  {
   "cell_type": "markdown",
   "metadata": {},
   "source": [
    "## Constraint Encoding\n",
    "\n",
    "The following constraints are encoded in the knowledge base:\n",
    "1. Mummy eats **only marshmallows**.\n",
    "2. Betty likes **only marmalade**.\n",
    "3. Peter dislikes cream-based desserts.\n",
    "4. Whoever likes ice cream dreams of visiting Paris.\n",
    "5. Specific dreams for Peter and Betty.\n",
    "6. Mummy and Daddy share the same dream (Sea).\n",
    "7. Napoleon Cake is liked by Daddy and Aunt Polly.\n"
   ]
  },
  {
   "cell_type": "code",
   "execution_count": 8,
   "metadata": {},
   "outputs": [],
   "source": [
    "\n",
    "people = ['Mummy', 'Daddy', 'Peter', 'Betty', 'AuntPolly']\n",
    "desserts = ['NapoleonCake', 'Marmalade', 'Waffles', 'Marshmallows', 'IceCream']\n",
    "dreams = ['Paris', 'Sea', 'Ballet', 'CoinCollection']\n",
    "holidayFavoriteDesserts = ['NapoleonCake', 'Marmalade', 'Waffles']\n",
    "\n",
    "\n",
    "dessertsWithCream = ['NapoleonCake', 'IceCream']\n",
    "\n",
    "likes = {}\n",
    "for person in people:\n",
    "    for dessert in desserts:\n",
    "        likes[(person, dessert)] = expr(f'Likes_{person}_{dessert}')\n",
    "\n",
    "dreams_dict = {}\n",
    "for person in people:\n",
    "    for dream in dreams:\n",
    "        dreams_dict[(person, dream)] = expr(f'Dreams_{person}_{dream}')\n",
    "\n",
    "kb = PropKB()\n",
    "\n",
    "kb.tell(likes['Mummy', 'Marshmallows'])\n",
    "for dessert in desserts:\n",
    "    if dessert != 'Marshmallows':\n",
    "        kb.tell(~likes['Mummy', dessert])\n",
    "\n",
    "kb.tell(likes['Betty', 'Marmalade'])\n",
    "for dessert in desserts:\n",
    "    if dessert != 'Marmalade':\n",
    "        kb.tell(~likes['Betty', dessert])\n",
    "        \n",
    "\n",
    "for dessert in dessertsWithCream:\n",
    "    kb.tell(~likes['Peter', dessert])\n",
    "\n",
    "for person in people:\n",
    "    kb.tell(~likes[(person, 'IceCream')] | dreams_dict[(person, 'Paris')])\n",
    "\n",
    "\n",
    "\n",
    "kb.tell(likes['AuntPolly', 'IceCream'])\n",
    "\n",
    "kb.tell(dreams_dict['Peter', 'CoinCollection'])\n",
    "kb.tell(dreams_dict['Betty', 'Ballet'])\n",
    "\n",
    "\n",
    "kb.tell(dreams_dict['Mummy', 'Sea'])\n",
    "kb.tell(dreams_dict['Daddy', 'Sea'])\n",
    "\n",
    "\n",
    "\n",
    "\n",
    "for person in people:\n",
    "    if person != 'AuntPolly':  \n",
    "        for dessert in holidayFavoriteDesserts:  \n",
    "            kb.tell(likes[(person, dessert)] | ~likes[(person, dessert)])\n",
    "\n",
    "\n",
    "for person in people:\n",
    "    kb.tell(dreams_dict[(person, 'Paris')] |\n",
    "            dreams_dict[(person, 'Sea')] |\n",
    "            dreams_dict[(person, 'Ballet')] |\n",
    "            dreams_dict[(person, 'CoinCollection')])\n",
    "    \n",
    "    for dream1 in dreams:\n",
    "        for dream2 in dreams:\n",
    "            if dream1 != dream2:\n",
    "                kb.tell(~dreams_dict[(person, dream1)] | ~dreams_dict[(person, dream2)])      \n",
    "\n"
   ]
  },
  {
   "cell_type": "markdown",
   "metadata": {},
   "source": [
    "## Inference and Results\n",
    "\n",
    "We use the **DPLL algorithm** to find a model that satisfies the knowledge base and query it for answers.\n"
   ]
  },
  {
   "cell_type": "code",
   "execution_count": 9,
   "metadata": {},
   "outputs": [
    {
     "name": "stdout",
     "output_type": "stream",
     "text": [
      "['Daddy'] likes Napoleon Cake\n",
      "['AuntPolly'] dreams of going to Paris\n"
     ]
    }
   ],
   "source": [
    "symbols = set()\n",
    "for val in likes.values():\n",
    "    symbols.add(val)\n",
    "for val in dreams_dict.values():\n",
    "    symbols.add(val)\n",
    "\n",
    "model = dpll_satisfiable(conjoin(kb.clauses))\n",
    "\n",
    "def who_likes_napoleon(model):\n",
    "    napoleon_lover=[]\n",
    "    for person in people:\n",
    "        key = likes[(person, 'NapoleonCake')]\n",
    "        if model.get(key, False):\n",
    "            napoleon_lover.append(person)\n",
    "\n",
    "    return napoleon_lover        \n",
    "\n",
    "def who_dreams_paris(model):\n",
    "    paris_dreamer=[]\n",
    "    for person in people:\n",
    "        key = dreams_dict[(person, 'Paris')]\n",
    "        if model.get(key, False):\n",
    "            paris_dreamer.append(person)\n",
    "    return paris_dreamer        \n",
    "\n",
    "\n",
    "napoleon_lover = who_likes_napoleon(model)\n",
    "paris_dreamer = who_dreams_paris(model)\n",
    "\n",
    "print(napoleon_lover, \"likes Napoleon Cake\")\n",
    "print(paris_dreamer, \"dreams of going to Paris\")"
   ]
  },
  {
   "cell_type": "markdown",
   "metadata": {},
   "source": [
    "# First Order Logic"
   ]
  },
  {
   "cell_type": "code",
   "execution_count": 4,
   "metadata": {},
   "outputs": [],
   "source": [
    "from aima import logic\n",
    "from aima.logic import FolKB, fol_fc_ask, PropKB,dpll_satisfiable\n",
    "from aima.utils import expr,Expr"
   ]
  },
  {
   "cell_type": "code",
   "execution_count": 21,
   "metadata": {},
   "outputs": [],
   "source": [
    "rules = [\n",
    " 'Likes(Mummy, Marshmallows)',\n",
    "    'Dislikes(Mummy, NapoleonCake)',\n",
    "    'Dislikes(Mummy, Marmalade)',\n",
    "    'Dislikes(Mummy, Waffles)',\n",
    "    'Dislikes(Mummy, IceCream)',\n",
    "\n",
    "    'Likes(Betty, Marmalade)',\n",
    "    'Dislikes(Betty, NapoleonCake)',\n",
    "    'Dislikes(Betty, Marshmallows)',\n",
    "    'Dislikes(Betty, Waffles)',\n",
    "    'Dislikes(Betty, IceCream)',\n",
    "\n",
    "    'ContainsCream(NapoleonCake)',\n",
    "    'ContainsCream(IceCream)',\n",
    "    'ContainsCream(x) ==> Dislikes(Peter, x)',\n",
    "\n",
    "    'Likes(AuntPolly, IceCream)',\n",
    "    'Likes(x, IceCream) ==> Dreams(x, Paris)',\n",
    "\n",
    "    'Dreams(Peter, CoinCollection)',\n",
    "    'Dreams(Betty, Ballet)',\n",
    "    'Dreams(Mummy, Sea)',\n",
    "    'Dreams(Daddy, Sea)',\n",
    "\n",
    "    'HolidayDessert(NapoleonCake)',\n",
    "    'HolidayDessert(Marmalade)',\n",
    "    'HolidayDessert(Waffles)',\n",
    " \n",
    "    'HolidayDessert(x) ==> Likes(Daddy, x)',\n",
    "\n",
    "    'HolidayDessert(x) & Dislikes(y, x) ==> NotLikes(y, x)',\n",
    "    'HolidayDessert(x) & NotLikes(y, x) ==> Dislikes(y, x)'\n",
    "\n",
    "\n",
    "]\n"
   ]
  },
  {
   "cell_type": "code",
   "execution_count": 22,
   "metadata": {},
   "outputs": [],
   "source": [
    "first_order_KB = FolKB()\n",
    "for rule in rules:\n",
    "  first_order_KB.tell(expr(rule))"
   ]
  },
  {
   "cell_type": "code",
   "execution_count": 29,
   "metadata": {},
   "outputs": [
    {
     "name": "stdout",
     "output_type": "stream",
     "text": [
      "{x: AuntPolly}\n",
      "{x: Daddy}\n"
     ]
    }
   ],
   "source": [
    "for r in fol_fc_ask(first_order_KB, expr('Dreams(x, Paris)')):\n",
    "    print(r)\n",
    "\n",
    "for r in fol_fc_ask(first_order_KB, expr('Likes(x, NapoleonCake)')):\n",
    "    print(r)"
   ]
  }
 ],
 "metadata": {
  "kernelspec": {
   "display_name": "Python 3",
   "language": "python",
   "name": "python3"
  },
  "language_info": {
   "codemirror_mode": {
    "name": "ipython",
    "version": 3
   },
   "file_extension": ".py",
   "mimetype": "text/x-python",
   "name": "python",
   "nbconvert_exporter": "python",
   "pygments_lexer": "ipython3",
   "version": "3.12.2"
  }
 },
 "nbformat": 4,
 "nbformat_minor": 2
}
